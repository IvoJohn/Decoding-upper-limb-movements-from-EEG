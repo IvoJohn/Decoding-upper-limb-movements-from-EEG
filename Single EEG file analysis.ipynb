{
 "cells": [
  {
   "cell_type": "code",
   "execution_count": 1,
   "metadata": {},
   "outputs": [],
   "source": [
    "import mne\n",
    "import numpy as np\n",
    "import matplotlib.pyplot as plt\n",
    "import os\n",
    "\n",
    "%matplotlib qt"
   ]
  },
  {
   "cell_type": "code",
   "execution_count": null,
   "metadata": {},
   "outputs": [],
   "source": [
    "data_path = ''\n",
    "\n",
    "eog = [61, 62, 63]\n",
    "\n",
    "data = mne.io.read_raw_gdf(data_path, preload=True, eog=eog)\n",
    "\n",
    "data.drop_channels(data.ch_names[64:])\n",
    "\n",
    "bads = 11, 24"
   ]
  },
  {
   "cell_type": "code",
   "execution_count": 3,
   "metadata": {
    "scrolled": false
   },
   "outputs": [
    {
     "data": {
      "text/plain": [
       "<Info | 7 non-empty values\n",
       " bads: []\n",
       " ch_names: eeg-0, eeg-1, eeg-2, eeg-3, eeg-4, eeg-5, eeg-6, eeg-7, eeg-8, ...\n",
       " chs: 61 EEG, 3 EOG\n",
       " custom_ref_applied: False\n",
       " highpass: 0.0 Hz\n",
       " lowpass: 256.0 Hz\n",
       " meas_date: 2015-05-26 15:42:48 UTC\n",
       " nchan: 64\n",
       " projs: []\n",
       " sfreq: 512.0 Hz\n",
       ">"
      ]
     },
     "execution_count": 3,
     "metadata": {},
     "output_type": "execute_result"
    }
   ],
   "source": [
    "data.info"
   ]
  },
  {
   "cell_type": "code",
   "execution_count": 4,
   "metadata": {
    "scrolled": false
   },
   "outputs": [],
   "source": [
    "data.plot(scalings='auto', n_channels=40, duration=20);"
   ]
  },
  {
   "cell_type": "markdown",
   "metadata": {},
   "source": [
    "### Removing Bad Channels"
   ]
  },
  {
   "cell_type": "code",
   "execution_count": 5,
   "metadata": {},
   "outputs": [],
   "source": [
    "data = data.crop(tmin=5)"
   ]
  },
  {
   "cell_type": "code",
   "execution_count": 6,
   "metadata": {
    "scrolled": false
   },
   "outputs": [
    {
     "name": "stdout",
     "output_type": "stream",
     "text": [
      "Running EOG SSP computation\n",
      "EOG channel index for this subject is: [61 62 63]\n",
      "Filtering the data to remove DC offset to help distinguish blinks from saccades\n",
      "Setting up band-pass filter from 1 - 10 Hz\n",
      "\n",
      "FIR filter parameters\n",
      "---------------------\n",
      "Designing a two-pass forward and reverse, zero-phase, non-causal bandpass filter:\n",
      "- Windowed frequency-domain design (firwin2) method\n",
      "- Hann window\n",
      "- Lower passband edge: 1.00\n",
      "- Lower transition bandwidth: 0.50 Hz (-12 dB cutoff frequency: 0.75 Hz)\n",
      "- Upper passband edge: 10.00 Hz\n",
      "- Upper transition bandwidth: 0.50 Hz (-12 dB cutoff frequency: 10.25 Hz)\n",
      "- Filter length: 8192 samples (16.000 sec)\n",
      "\n",
      "Now detecting blinks and generating corresponding events\n",
      "No significant peaks found\n",
      "Number of EOG events detected : 0\n"
     ]
    },
    {
     "name": "stderr",
     "output_type": "stream",
     "text": [
      "C:\\ProgramData\\Anaconda3\\envs\\mne\\lib\\site-packages\\mne\\preprocessing\\_peak_finder.py:67: RuntimeWarning: invalid value encountered in less\n",
      "  ind = np.where(dx0[:-1:] * dx0[1::] < 0)[0] + 1\n",
      "<ipython-input-6-bc1df270c765>:1: RuntimeWarning: No EOG events found, returning None for projs\n",
      "  eog_preprocessing, _ = mne.preprocessing.compute_proj_eog(data1, n_grad=1, n_mag=1, n_eeg=1, no_proj=True, reject=None)\n"
     ]
    }
   ],
   "source": [
    "eog_preprocessing, _ = mne.preprocessing.compute_proj_eog(data, n_grad=1, n_mag=1, n_eeg=1, no_proj=True, reject=None)"
   ]
  },
  {
   "cell_type": "markdown",
   "metadata": {},
   "source": [
    "### Creating epochs"
   ]
  },
  {
   "cell_type": "code",
   "execution_count": 7,
   "metadata": {},
   "outputs": [
    {
     "name": "stdout",
     "output_type": "stream",
     "text": [
      "Used Annotations descriptions: ['1536', '1537', '1538', '1539', '1540', '1541', '1542']\n"
     ]
    }
   ],
   "source": [
    "annotations = data.annotations\n",
    "\n",
    "event_id = {'1536': 1, '1537': 2, '1538': 3, '1539': 4, '1540': 5, '1541': 6, '1542': 7}\n",
    "events, events_dict = mne.events_from_annotations(data, event_id=event_id)"
   ]
  },
  {
   "cell_type": "code",
   "execution_count": 8,
   "metadata": {
    "scrolled": true
   },
   "outputs": [],
   "source": [
    "events_dict_corrected = {'elow/flexion': 1, 'elbow/extension': 2, 'arm/supination': 3,\n",
    "              'arm/pronation': 4, 'hand/close': 5, 'hand/open': 6, 'rest': 7}\n",
    "\n",
    "fig = mne.viz.plot_events(events, event_id=events_dict_corrected, sfreq=data.info['sfreq'],\n",
    "                          first_samp=data.first_samp);"
   ]
  },
  {
   "cell_type": "code",
   "execution_count": 9,
   "metadata": {
    "scrolled": true
   },
   "outputs": [
    {
     "name": "stdout",
     "output_type": "stream",
     "text": [
      "42 matching events found\n",
      "Applying baseline correction (mode: mean)\n",
      "Not setting metadata\n",
      "0 projection items activated\n",
      "Loading data for 42 events and 1793 original time points ...\n",
      "0 bad epochs dropped\n"
     ]
    }
   ],
   "source": [
    "epochs = mne.Epochs(raw=data, events=events, event_id=events_dict_corrected, tmin=-0.5, tmax=3, preload=True)"
   ]
  },
  {
   "cell_type": "code",
   "execution_count": 10,
   "metadata": {
    "scrolled": false
   },
   "outputs": [
    {
     "data": {
      "text/plain": [
       "<bound method GetEpochsMixin.__len__ of <Epochs  |   42 events (all good), -0.5 - 3 sec, baseline [None, 0], ~36.9 MB, data loaded,\n",
       " 'arm/pronation': 6\n",
       " 'arm/supination': 6\n",
       " 'elbow/extension': 6\n",
       " 'elow/flexion': 6\n",
       " 'hand/close': 6\n",
       " 'hand/open': 6\n",
       " 'rest': 6>>"
      ]
     },
     "execution_count": 10,
     "metadata": {},
     "output_type": "execute_result"
    }
   ],
   "source": [
    "epochs.__len__"
   ]
  },
  {
   "cell_type": "code",
   "execution_count": 11,
   "metadata": {
    "scrolled": true
   },
   "outputs": [
    {
     "name": "stdout",
     "output_type": "stream",
     "text": [
      "Dropped 0 epochs: \n",
      "Channels marked as bad: []\n"
     ]
    }
   ],
   "source": [
    "epochs['arm/pronation'].plot(scalings='auto', n_channels=10);"
   ]
  },
  {
   "cell_type": "markdown",
   "metadata": {},
   "source": [
    "### Filtering"
   ]
  },
  {
   "cell_type": "code",
   "execution_count": 12,
   "metadata": {
    "scrolled": false
   },
   "outputs": [
    {
     "name": "stdout",
     "output_type": "stream",
     "text": [
      "Setting up band-stop filter from 0.5 - 50 Hz\n",
      "\n",
      "FIR filter parameters\n",
      "---------------------\n",
      "Designing a one-pass, zero-phase, non-causal bandstop filter:\n",
      "- Windowed time-domain design (firwin) method\n",
      "- Hamming window with 0.0194 passband ripple and 53 dB stopband attenuation\n",
      "- Lower passband edge: 0.50\n",
      "- Lower transition bandwidth: 0.50 Hz (-6 dB cutoff frequency: 0.25 Hz)\n",
      "- Upper passband edge: 50.00 Hz\n",
      "- Upper transition bandwidth: 12.50 Hz (-6 dB cutoff frequency: 56.25 Hz)\n",
      "- Filter length: 3379 samples (6.600 sec)\n",
      "\n"
     ]
    },
    {
     "name": "stderr",
     "output_type": "stream",
     "text": [
      "<ipython-input-12-5ebb3384d33f>:1: RuntimeWarning: filter_length (3379) is longer than the signal (1793), distortion is likely. Reduce filter length or filter a longer signal.\n",
      "  data_filtered = epochs.filter(l_freq=50, h_freq=0.5, method='fft')\n"
     ]
    }
   ],
   "source": [
    "data_filtered = epochs.filter(l_freq=50, h_freq=0.5, method='fft')"
   ]
  },
  {
   "cell_type": "code",
   "execution_count": 13,
   "metadata": {
    "scrolled": true
   },
   "outputs": [
    {
     "name": "stdout",
     "output_type": "stream",
     "text": [
      "Dropped 0 epochs: \n",
      "Channels marked as bad: []\n"
     ]
    }
   ],
   "source": [
    "data_filtered.plot(scalings='auto', events=events);"
   ]
  },
  {
   "cell_type": "markdown",
   "metadata": {},
   "source": [
    "### Downsampling"
   ]
  },
  {
   "cell_type": "code",
   "execution_count": 14,
   "metadata": {},
   "outputs": [
    {
     "name": "stdout",
     "output_type": "stream",
     "text": [
      "Original sampling rate:  512.0 Hz\n",
      "New sampling rate:  256.0 Hz\n"
     ]
    }
   ],
   "source": [
    "print('Original sampling rate: ', epochs.info['sfreq'], 'Hz')\n",
    "epochs_resampled = epochs.copy().resample(256, npad='auto')\n",
    "print('New sampling rate: ', epochs_resampled.info['sfreq'], 'Hz')"
   ]
  },
  {
   "cell_type": "code",
   "execution_count": 15,
   "metadata": {
    "scrolled": false
   },
   "outputs": [],
   "source": [
    "plt.figure(figsize=(10, 6))\n",
    "\n",
    "n_samples = int(0.5 * epochs.info['sfreq'])\n",
    "plt.plot(epochs.times[:n_samples], epochs.get_data()[0, 0, :n_samples], color='black')\n",
    "\n",
    "n_samples = int(0.5 * epochs_resampled.info['sfreq'])\n",
    "plt.plot(epochs_resampled.times[:n_samples], epochs.get_data()[0, 0, :n_samples], color='red')\n",
    "\n",
    "plt.xlabel('time [s]')\n",
    "plt.legend(['original at 512Hz', 'sampled to 256Hz'], loc='best')\n",
    "plt.title('Original vs downsamples epochs')\n",
    "mne.viz.tight_layout()"
   ]
  },
  {
   "cell_type": "markdown",
   "metadata": {},
   "source": [
    "### Saving to DataFrame"
   ]
  },
  {
   "cell_type": "code",
   "execution_count": 16,
   "metadata": {
    "scrolled": true
   },
   "outputs": [
    {
     "data": {
      "text/plain": [
       "<Epochs  |   42 events (all good), -0.5 - 2.99609 sec, baseline [None, 0], ~17.3 MB, data loaded,\n",
       " 'arm/pronation': 6\n",
       " 'arm/supination': 6\n",
       " 'elbow/extension': 6\n",
       " 'elow/flexion': 6\n",
       " 'hand/close': 6\n",
       " 'hand/open': 6\n",
       " 'rest': 6>"
      ]
     },
     "execution_count": 16,
     "metadata": {},
     "output_type": "execute_result"
    }
   ],
   "source": [
    "epochs_resampled.drop_channels(['eeg-12', 'eeg-17', 'eeg-0', 'eeg-19'])"
   ]
  },
  {
   "cell_type": "code",
   "execution_count": 17,
   "metadata": {},
   "outputs": [
    {
     "data": {
      "text/html": [
       "<div>\n",
       "<style scoped>\n",
       "    .dataframe tbody tr th:only-of-type {\n",
       "        vertical-align: middle;\n",
       "    }\n",
       "\n",
       "    .dataframe tbody tr th {\n",
       "        vertical-align: top;\n",
       "    }\n",
       "\n",
       "    .dataframe thead th {\n",
       "        text-align: right;\n",
       "    }\n",
       "</style>\n",
       "<table border=\"1\" class=\"dataframe\">\n",
       "  <thead>\n",
       "    <tr style=\"text-align: right;\">\n",
       "      <th></th>\n",
       "      <th>eeg-1</th>\n",
       "      <th>eeg-2</th>\n",
       "      <th>eeg-3</th>\n",
       "      <th>eeg-4</th>\n",
       "      <th>eeg-5</th>\n",
       "      <th>eeg-6</th>\n",
       "      <th>eeg-7</th>\n",
       "      <th>eeg-8</th>\n",
       "      <th>eeg-9</th>\n",
       "      <th>eeg-10</th>\n",
       "      <th>...</th>\n",
       "      <th>eeg-54</th>\n",
       "      <th>eeg-55</th>\n",
       "      <th>eeg-56</th>\n",
       "      <th>eeg-57</th>\n",
       "      <th>eeg-58</th>\n",
       "      <th>eeg-59</th>\n",
       "      <th>eeg-60</th>\n",
       "      <th>eog-r</th>\n",
       "      <th>eog-m</th>\n",
       "      <th>eog-l</th>\n",
       "    </tr>\n",
       "  </thead>\n",
       "  <tbody>\n",
       "    <tr>\n",
       "      <th>0</th>\n",
       "      <td>1.233366e+07</td>\n",
       "      <td>7.917713e+06</td>\n",
       "      <td>9.092649e+06</td>\n",
       "      <td>1.126667e+07</td>\n",
       "      <td>3.198847e+06</td>\n",
       "      <td>5.360397e+06</td>\n",
       "      <td>9.002609e+06</td>\n",
       "      <td>8.571124e+06</td>\n",
       "      <td>5.239841e+06</td>\n",
       "      <td>4.295213e+06</td>\n",
       "      <td>...</td>\n",
       "      <td>2.746856e+06</td>\n",
       "      <td>4.280375e+06</td>\n",
       "      <td>4.177384e+06</td>\n",
       "      <td>1.549734e+06</td>\n",
       "      <td>4.384880e+05</td>\n",
       "      <td>2.678838e+06</td>\n",
       "      <td>2.199416e+06</td>\n",
       "      <td>1.347109e+07</td>\n",
       "      <td>7.225095e+07</td>\n",
       "      <td>1.712420e+07</td>\n",
       "    </tr>\n",
       "    <tr>\n",
       "      <th>1</th>\n",
       "      <td>1.986016e+07</td>\n",
       "      <td>1.477457e+07</td>\n",
       "      <td>1.551380e+07</td>\n",
       "      <td>1.214882e+07</td>\n",
       "      <td>1.036077e+07</td>\n",
       "      <td>1.747457e+07</td>\n",
       "      <td>1.671733e+07</td>\n",
       "      <td>1.533228e+07</td>\n",
       "      <td>1.302706e+07</td>\n",
       "      <td>1.288625e+07</td>\n",
       "      <td>...</td>\n",
       "      <td>1.068404e+07</td>\n",
       "      <td>1.002737e+07</td>\n",
       "      <td>9.233302e+06</td>\n",
       "      <td>5.889657e+06</td>\n",
       "      <td>8.034194e+06</td>\n",
       "      <td>6.695028e+06</td>\n",
       "      <td>7.683814e+06</td>\n",
       "      <td>2.253770e+07</td>\n",
       "      <td>7.607093e+07</td>\n",
       "      <td>1.670947e+07</td>\n",
       "    </tr>\n",
       "    <tr>\n",
       "      <th>2</th>\n",
       "      <td>1.103461e+07</td>\n",
       "      <td>4.581639e+06</td>\n",
       "      <td>5.743556e+06</td>\n",
       "      <td>1.087542e+06</td>\n",
       "      <td>2.523630e+06</td>\n",
       "      <td>7.098404e+06</td>\n",
       "      <td>7.524738e+06</td>\n",
       "      <td>6.760655e+06</td>\n",
       "      <td>5.871404e+06</td>\n",
       "      <td>6.088265e+06</td>\n",
       "      <td>...</td>\n",
       "      <td>-3.167736e+06</td>\n",
       "      <td>-1.321504e+06</td>\n",
       "      <td>-5.054550e+04</td>\n",
       "      <td>-4.196344e+06</td>\n",
       "      <td>-9.790520e+06</td>\n",
       "      <td>3.688024e+05</td>\n",
       "      <td>-1.520672e+06</td>\n",
       "      <td>1.588090e+07</td>\n",
       "      <td>6.447120e+07</td>\n",
       "      <td>1.293665e+07</td>\n",
       "    </tr>\n",
       "    <tr>\n",
       "      <th>3</th>\n",
       "      <td>1.640156e+07</td>\n",
       "      <td>1.105414e+07</td>\n",
       "      <td>1.148467e+07</td>\n",
       "      <td>1.016231e+07</td>\n",
       "      <td>9.887551e+06</td>\n",
       "      <td>1.128725e+07</td>\n",
       "      <td>1.359890e+07</td>\n",
       "      <td>1.149927e+07</td>\n",
       "      <td>8.395449e+06</td>\n",
       "      <td>8.138911e+06</td>\n",
       "      <td>...</td>\n",
       "      <td>4.841418e+06</td>\n",
       "      <td>7.223950e+06</td>\n",
       "      <td>8.582398e+06</td>\n",
       "      <td>6.190034e+06</td>\n",
       "      <td>4.533077e+06</td>\n",
       "      <td>7.330882e+06</td>\n",
       "      <td>7.640946e+06</td>\n",
       "      <td>1.484683e+07</td>\n",
       "      <td>6.275665e+07</td>\n",
       "      <td>2.091764e+07</td>\n",
       "    </tr>\n",
       "    <tr>\n",
       "      <th>4</th>\n",
       "      <td>7.718311e+06</td>\n",
       "      <td>1.786803e+06</td>\n",
       "      <td>2.930772e+06</td>\n",
       "      <td>2.791440e+06</td>\n",
       "      <td>-7.970332e+06</td>\n",
       "      <td>8.058564e+05</td>\n",
       "      <td>3.314433e+06</td>\n",
       "      <td>2.963867e+06</td>\n",
       "      <td>1.660303e+06</td>\n",
       "      <td>4.467629e+05</td>\n",
       "      <td>...</td>\n",
       "      <td>4.416594e+05</td>\n",
       "      <td>3.704836e+05</td>\n",
       "      <td>-2.158884e+06</td>\n",
       "      <td>-5.355998e+06</td>\n",
       "      <td>-7.541921e+06</td>\n",
       "      <td>-2.839770e+06</td>\n",
       "      <td>-4.068110e+06</td>\n",
       "      <td>-7.728377e+05</td>\n",
       "      <td>4.657414e+07</td>\n",
       "      <td>6.191810e+06</td>\n",
       "    </tr>\n",
       "  </tbody>\n",
       "</table>\n",
       "<p>5 rows × 60 columns</p>\n",
       "</div>"
      ],
      "text/plain": [
       "          eeg-1         eeg-2         eeg-3         eeg-4         eeg-5  \\\n",
       "0  1.233366e+07  7.917713e+06  9.092649e+06  1.126667e+07  3.198847e+06   \n",
       "1  1.986016e+07  1.477457e+07  1.551380e+07  1.214882e+07  1.036077e+07   \n",
       "2  1.103461e+07  4.581639e+06  5.743556e+06  1.087542e+06  2.523630e+06   \n",
       "3  1.640156e+07  1.105414e+07  1.148467e+07  1.016231e+07  9.887551e+06   \n",
       "4  7.718311e+06  1.786803e+06  2.930772e+06  2.791440e+06 -7.970332e+06   \n",
       "\n",
       "          eeg-6         eeg-7         eeg-8         eeg-9        eeg-10  ...  \\\n",
       "0  5.360397e+06  9.002609e+06  8.571124e+06  5.239841e+06  4.295213e+06  ...   \n",
       "1  1.747457e+07  1.671733e+07  1.533228e+07  1.302706e+07  1.288625e+07  ...   \n",
       "2  7.098404e+06  7.524738e+06  6.760655e+06  5.871404e+06  6.088265e+06  ...   \n",
       "3  1.128725e+07  1.359890e+07  1.149927e+07  8.395449e+06  8.138911e+06  ...   \n",
       "4  8.058564e+05  3.314433e+06  2.963867e+06  1.660303e+06  4.467629e+05  ...   \n",
       "\n",
       "         eeg-54        eeg-55        eeg-56        eeg-57        eeg-58  \\\n",
       "0  2.746856e+06  4.280375e+06  4.177384e+06  1.549734e+06  4.384880e+05   \n",
       "1  1.068404e+07  1.002737e+07  9.233302e+06  5.889657e+06  8.034194e+06   \n",
       "2 -3.167736e+06 -1.321504e+06 -5.054550e+04 -4.196344e+06 -9.790520e+06   \n",
       "3  4.841418e+06  7.223950e+06  8.582398e+06  6.190034e+06  4.533077e+06   \n",
       "4  4.416594e+05  3.704836e+05 -2.158884e+06 -5.355998e+06 -7.541921e+06   \n",
       "\n",
       "         eeg-59        eeg-60         eog-r         eog-m         eog-l  \n",
       "0  2.678838e+06  2.199416e+06  1.347109e+07  7.225095e+07  1.712420e+07  \n",
       "1  6.695028e+06  7.683814e+06  2.253770e+07  7.607093e+07  1.670947e+07  \n",
       "2  3.688024e+05 -1.520672e+06  1.588090e+07  6.447120e+07  1.293665e+07  \n",
       "3  7.330882e+06  7.640946e+06  1.484683e+07  6.275665e+07  2.091764e+07  \n",
       "4 -2.839770e+06 -4.068110e+06 -7.728377e+05  4.657414e+07  6.191810e+06  \n",
       "\n",
       "[5 rows x 60 columns]"
      ]
     },
     "execution_count": 17,
     "metadata": {},
     "output_type": "execute_result"
    }
   ],
   "source": [
    "df = epochs_resampled.to_data_frame()\n",
    "df.drop(['time', 'condition', 'epoch'], axis=1, inplace=True)\n",
    "df.head()"
   ]
  },
  {
   "cell_type": "markdown",
   "metadata": {},
   "source": [
    "1 epochs: 896"
   ]
  },
  {
   "cell_type": "code",
   "execution_count": 18,
   "metadata": {},
   "outputs": [],
   "source": [
    "df.to_csv(path, index=False)"
   ]
  }
 ],
 "metadata": {
  "kernelspec": {
   "display_name": "Python [conda env:mne]",
   "language": "python",
   "name": "conda-env-mne-py"
  },
  "language_info": {
   "codemirror_mode": {
    "name": "ipython",
    "version": 3
   },
   "file_extension": ".py",
   "mimetype": "text/x-python",
   "name": "python",
   "nbconvert_exporter": "python",
   "pygments_lexer": "ipython3",
   "version": "3.8.5"
  }
 },
 "nbformat": 4,
 "nbformat_minor": 4
}
